{
 "metadata": {
  "name": "tet_notes"
 },
 "nbformat": 3,
 "nbformat_minor": 0,
 "worksheets": [
  {
   "cells": [
    {
     "cell_type": "markdown",
     "metadata": {},
     "source": [
      "#`tet` module\n",
      "\n",
      "##Notes\n",
      "\n",
      "* Why represent the two genomes in a single array?  Why not make them two separate attributes?  In fact at the moment you have the worst of both worlds, in that your `Tet` objects carry the full matrix as well as two separate germline and somatic matrices.\n",
      "* You should then make a `__repr__()` method that separates the two genomes.\n",
      "* You should make the `mutate()` method able to mutate each of the two genomes separately.  This makes sense biologically, because the two genomes divide (and therefore mutate) independently.  You should also implement gamma distributed mutational effects (see below)."
     ]
    },
    {
     "cell_type": "code",
     "collapsed": false,
     "input": [
      "ls *.py"
     ],
     "language": "python",
     "metadata": {},
     "outputs": [
      {
       "output_type": "stream",
       "stream": "stdout",
       "text": [
        "evolve.py      poplist.py     tet.py         tet_evolve.py  tetarr.py\r\n"
       ]
      }
     ],
     "prompt_number": 4
    },
    {
     "cell_type": "code",
     "collapsed": false,
     "input": [
      "run tet.py"
     ],
     "language": "python",
     "metadata": {},
     "outputs": [],
     "prompt_number": 5
    },
    {
     "cell_type": "code",
     "collapsed": false,
     "input": [
      "x = Tet(L=100)\n",
      "x.mutate(.2, 1)\n",
      "x.genomes.sum() / (47 * x.L)"
     ],
     "language": "python",
     "metadata": {},
     "outputs": [
      {
       "metadata": {},
       "output_type": "pyout",
       "prompt_number": 22,
       "text": [
        "0.2027659574468085"
       ]
      }
     ],
     "prompt_number": 22
    },
    {
     "cell_type": "markdown",
     "metadata": {},
     "source": [
      "## Gamma distribution of mutational effects\n",
      "\n",
      "### NumPy and R parameterization\n",
      "\n",
      "The **probability density function** for the Gamma distribution is\n",
      "\n",
      "$p(x) = x^{k-1}\\frac{e^{-x/\\theta}}{\\theta^k\\Gamma(k)}$\n",
      "\n",
      "where $k$ is the **shape** parameter, $\\theta$ is the **scale** parameter, and $\\Gamma$ is the Gamma function.\n",
      "\n",
      "* Mean: $\\quad \\text{E}\\{x\\} = k\\theta$\n",
      "* Variance: $\\quad \\text{Var}\\{x\\} = k\\theta^2$\n",
      "\n",
      "### Keightley parameterization\n",
      "\n",
      "$\\beta = k$ is the **shape** parameter and $\\alpha = 1/\\theta$ is the **scale** parameter such that:\n",
      "\n",
      "* Mean: $\\quad \\text{E}\\{x\\} = \\beta / \\alpha$\n",
      "* Variance: $\\quad \\text{Var}\\{x\\} = \\beta / \\alpha^2$\n",
      "\n",
      "For historical / field reasons we should implement Keightley's parameterization.  Here's how I would generate random mutational effects with mean $s$ and shape parameter $\\beta$."
     ]
    },
    {
     "cell_type": "code",
     "collapsed": false,
     "input": [
      "from numpy.random import gamma\n",
      "from numpy import inf"
     ],
     "language": "python",
     "metadata": {},
     "outputs": [],
     "prompt_number": 33
    },
    {
     "cell_type": "code",
     "collapsed": false,
     "input": [
      "def mutational_effects(n, s, beta):\n",
      "    \"\"\"\n",
      "    Generate n mutations from a gamma distribution with mean effect s and shape parameter beta.\n",
      "    Negative (positive) values of s indicate deleterious (beneficial) mutations. \n",
      "    \n",
      "    Arguments:\n",
      "    n -- number of mutations\n",
      "    s -- mean effect of a mutation\n",
      "    beta -- shape parameter of the gamma distribution (inf indicates equal effects)\n",
      "    \"\"\"\n",
      "    if sign(s) == 1:\n",
      "        beneficial = True\n",
      "    elif sign(s) == -1:\n",
      "        beneficial = False\n",
      "    else:\n",
      "        return \"Invalid s: must be nonzero.\"\n",
      "    if beta > 0:\n",
      "        if beta == inf:\n",
      "            mutations = np.repeat(s, n)            \n",
      "        else:\n",
      "            alpha = beta / abs(s)\n",
      "            if beneficial:\n",
      "                mutations = gamma(shape=beta, scale=1/alpha, size=n)\n",
      "            else:\n",
      "                mutations = - gamma(shape=beta, scale=1/alpha, size=n)\n",
      "        return mutations\n",
      "    else:\n",
      "        return \"Invalid beta: must be 0 < beta < inf.\""
     ],
     "language": "python",
     "metadata": {},
     "outputs": [],
     "prompt_number": 90
    },
    {
     "cell_type": "code",
     "collapsed": false,
     "input": [
      "hist(mutational_effects(10000, -.1, 2), bins=50, normed=True);\n",
      "xlabel('mutational effect', size=16);\n",
      "ylabel('probability density', size=16);"
     ],
     "language": "python",
     "metadata": {},
     "outputs": [
      {
       "metadata": {},
       "output_type": "display_data",
       "png": "[encoded data removed]",
       "text": [
        "<matplotlib.figure.Figure at 0x112ffd9d0>"
       ]
      }
     ],
     "prompt_number": 91
    },
    {
     "cell_type": "code",
     "collapsed": false,
     "input": [],
     "language": "python",
     "metadata": {},
     "outputs": []
    }
   ],
   "metadata": {}
  }
 ]
}